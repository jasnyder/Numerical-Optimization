{
 "cells": [
  {
   "cell_type": "markdown",
   "metadata": {},
   "source": [
    "# Optimization Routines"
   ]
  },
  {
   "cell_type": "code",
   "execution_count": 1,
   "metadata": {
    "collapsed": false
   },
   "outputs": [],
   "source": [
    "using JuMP\n",
    "using Ipopt"
   ]
  },
  {
   "cell_type": "markdown",
   "metadata": {},
   "source": [
    "Utility functions to keep probability vector indices in order"
   ]
  },
  {
   "cell_type": "code",
   "execution_count": 2,
   "metadata": {
    "collapsed": false
   },
   "outputs": [
    {
     "data": {
      "text/plain": [
       "probdict_to_list (generic function with 1 method)"
      ]
     },
     "execution_count": 2,
     "metadata": {},
     "output_type": "execute_result"
    }
   ],
   "source": [
    "function problist_to_dict(p)\n",
    "    # This function inverts probdict_to_list\n",
    "    #\n",
    "    # Input:\n",
    "    #   p : 16-component probability vector\n",
    "    #       probabilities of ((A1,S1),(A2,S2)) ordered lexicographically i.e. ((0,0),(0,0)), ((0,0),(0,1)), ..., ((1,1),(1,1))\n",
    "    # Output:\n",
    "    #   d : a dictionary whose keys are joint configurations of (X^t,X^{t+1}) (words in A^(2I))\n",
    "    #       and whose values are the corresponding probabilities\n",
    "    d=Dict()\n",
    "    for i in eachindex(p)\n",
    "        (a,b,c,f) = base(2,i-1,4)\n",
    "        d[((parse(Int,a),parse(Int,b)),(parse(Int,c),parse(Int,f)))] = p[i]\n",
    "    end\n",
    "    return d\n",
    "end\n",
    "\n",
    "function probdict_to_list(d)\n",
    "    # This function inverts problist_to_dict\n",
    "    #\n",
    "    # Input:\n",
    "    #   d : a dictionary whose keys are joint configurations of (X^t,X^{t+1}) (words in A^(2I))\n",
    "    #       and whose values are the corresponding probabilities\n",
    "    #   m : alphabet size\n",
    "    # Output:\n",
    "    #   p : list of probabilities\n",
    "    l = [((0,0),(0,0)),\n",
    "        ((0,0),(0,1)),\n",
    "        ((0,0),(1,0)),\n",
    "        ((0,0),(1,1)),\n",
    "        ((0,1),(0,0)),\n",
    "        ((0,1),(0,1)),\n",
    "        ((0,1),(1,0)),\n",
    "        ((0,1),(1,1)),\n",
    "        ((1,0),(0,0)),\n",
    "        ((1,0),(0,1)),\n",
    "        ((1,0),(1,0)),\n",
    "        ((1,0),(1,1)),\n",
    "        ((1,1),(0,0)),\n",
    "        ((1,1),(0,1)),\n",
    "        ((1,1),(1,0)),\n",
    "        ((1,1),(1,1))]\n",
    "    p = []\n",
    "    for k in l\n",
    "        push!(p,d[k])\n",
    "    end\n",
    "    return p\n",
    "end"
   ]
  },
  {
   "cell_type": "markdown",
   "metadata": {},
   "source": [
    "The main attraction"
   ]
  },
  {
   "cell_type": "code",
   "execution_count": 3,
   "metadata": {
    "collapsed": false
   },
   "outputs": [
    {
     "data": {
      "text/plain": [
       "integrated_information (generic function with 1 method)"
      ]
     },
     "execution_count": 3,
     "metadata": {},
     "output_type": "execute_result"
    }
   ],
   "source": [
    "function integrated_information(Q)\n",
    "    # Input\n",
    "    #  Q : 16-component probability vector\n",
    "    #      probabilities of ((A1,S1),(A2,S2)) ordered lexicographically i.e. ((0,0),(0,0)), ((0,0),(0,1)), ..., ((1,1),(1,1))\n",
    "    # Output:\n",
    "    #  Dmin : number, equal to the integrated information\n",
    "    #  q : 16-component array, the minimizer of Dkl over the null manifold\n",
    "    \n",
    "    # create a JuMP model\n",
    "    m = Model(solver=IpoptSolver())\n",
    "    \n",
    "    # define the variable to optimize over - a 16-component nonnegative vector\n",
    "    @defVar(m, x[1:16] >= 0)\n",
    "    \n",
    "    # initialize x to the input distribution\n",
    "    for i in 1:16\n",
    "        setValue(x[i],Q[i])\n",
    "    end\n",
    "    \n",
    "    # constrain sum of entries of x to be 1\n",
    "    unitsum = AffExpr(x, ones(16), 0)\n",
    "    @addConstraint(m, unitsum == 1)\n",
    "\n",
    "    # impose constraints derived from conditional probability\n",
    "    @addNLConstraint(m, (x[1]+x[2])*(x[8]+x[7])- (x[6]+x[5])*(x[4]+x[3]) == 0)\n",
    "    @addNLConstraint(m, (x[10]+x[9])*(x[16]+x[15])- (x[14]+x[13])*(x[12]+x[11]) == 0)\n",
    "    @addNLConstraint(m, (x[1]+x[3])*(x[10]+x[12])- (x[9]+x[11])*(x[2]+x[4]) == 0)\n",
    "    @addNLConstraint(m, (x[5]+x[7])*(x[16]+x[14])- (x[8]+x[6])*(x[13]+x[15]) == 0)\n",
    "\n",
    "    # build up Dkl objective function using auxillary variables, due to syntax constraints\n",
    "    @defVar(m, logquo[1:16]) # variable to hold logs of quotients\n",
    "    for i = 1:16\n",
    "        @addNLConstraint(m, logquo[i] == log2(x[i]/Q[i]))\n",
    "    end\n",
    "    Dkl = QuadExpr(x,logquo,ones(16),0)\n",
    "    @setObjective(m, Min, Dkl)\n",
    "    solve(m)\n",
    "    q = getValue(x)\n",
    "    Dmin = getObjectiveValue(m)\n",
    "    return (Dmin,q)\n",
    "end"
   ]
  },
  {
   "cell_type": "markdown",
   "metadata": {},
   "source": [
    "Calculator for stochastic interaction, the information quantity whose null model is obtained from the \"Multiplex Markov Chain\" framework"
   ]
  },
  {
   "cell_type": "code",
   "execution_count": 4,
   "metadata": {
    "collapsed": false
   },
   "outputs": [
    {
     "data": {
      "text/plain": [
       "stochastic_interaction (generic function with 1 method)"
      ]
     },
     "execution_count": 4,
     "metadata": {},
     "output_type": "execute_result"
    }
   ],
   "source": [
    "function stochastic_interaction(p, p_null)\n",
    "    # Input\n",
    "    #  p : 16-component probability vector\n",
    "    #      probabilities of ((A1,S1),(A2,S2)) ordered lexicographically i.e. ((0,0),(0,0)), ((0,0),(0,1)), ..., ((1,1),(1,1))\n",
    "    #  p_null : 16-component vector taken from the Multiplex Markov Chain null model\n",
    "    #      gives *conditional* probabilities\n",
    "    # Output\n",
    "    #  Dmin : number, equal to stochastic interaction\n",
    "    #  q : 16-component probability vector\n",
    "    \n",
    "    full = problist_to_dict(p)\n",
    "    null_conditionals = problist_to_dict(p_null)\n",
    "    # find probabilities of X^t to convert conditionals to joints\n",
    "    init_probs = Dict()\n",
    "    null_SI = Dict()\n",
    "    \n",
    "    # marginalize full distribution to obtain p(X^t)\n",
    "    for (fs,ts) in keys(full)\n",
    "        if haskey(init_probs,fs)\n",
    "            init_probs[fs] += full[(fs,ts)]\n",
    "        else\n",
    "            init_probs[fs] = full[(fs,ts)]\n",
    "        end\n",
    "    end\n",
    "    \n",
    "    # convert conditional probabilities to a proper joint distribution for the null model\n",
    "    for (fs,ts) in keys(null_conditionals)\n",
    "        null_SI[(fs,ts)] = init_probs[fs]*null_conditionals[(fs,ts)]/sum(values(init_probs))\n",
    "    end\n",
    "    \n",
    "    q = probdict_to_list(null_SI)\n",
    "    Dmin = sum([x*log2(x/y) for (x,y) in zip(p,q)])\n",
    "    return (Dmin,q)\n",
    "end"
   ]
  },
  {
   "cell_type": "markdown",
   "metadata": {},
   "source": [
    "Calculator for mutual information between past and present"
   ]
  },
  {
   "cell_type": "code",
   "execution_count": 5,
   "metadata": {
    "collapsed": false
   },
   "outputs": [
    {
     "data": {
      "text/plain": [
       "mutual_information (generic function with 1 method)"
      ]
     },
     "execution_count": 5,
     "metadata": {},
     "output_type": "execute_result"
    }
   ],
   "source": [
    "function mutual_information(p)\n",
    "    # Input\n",
    "    #  p : 16-component probability vector\n",
    "    #      probabilities of ((A1,S1),(A2,S2)) ordered lexicographically i.e. ((0,0),(0,0)), ((0,0),(0,1)), ..., ((1,1),(1,1))\n",
    "    # Output\n",
    "    #  MI : mutual information between (A1,S1)  and (A2,S2)\n",
    "    full = problist_to_dict(p)\n",
    "    X_marg = Dict()\n",
    "    Y_marg = Dict()\n",
    "    null = Dict()\n",
    "    \n",
    "    # marginalize the full distribution to obtain X_marg = p(X^t) and Y_marg = p(X^t+1)\n",
    "    for (fs,ts) in keys(full)\n",
    "        if fs in keys(X_marg)\n",
    "            X_marg[fs] += full[(fs,ts)]\n",
    "        else\n",
    "            X_marg[fs] = full[(fs,ts)]\n",
    "        end\n",
    "        if ts in keys(Y_marg)\n",
    "            Y_marg[ts] += full[(fs,ts)]\n",
    "        else\n",
    "            Y_marg[ts] = full[(fs,ts)]\n",
    "        end\n",
    "    end\n",
    "    \n",
    "    # obtain null model as product of marginals\n",
    "    for (fs,ts) in keys(full)\n",
    "        null[(fs,ts)] = X_marg[fs]*Y_marg[ts]\n",
    "    end\n",
    "    \n",
    "    q = probdict_to_list(null)\n",
    "    return sum([x*log2(x/y) for (x,y) in zip(p,q)])\n",
    "end"
   ]
  },
  {
   "cell_type": "code",
   "execution_count": 6,
   "metadata": {
    "collapsed": false
   },
   "outputs": [
    {
     "data": {
      "text/plain": [
       "Dkl_oracle (generic function with 1 method)"
      ]
     },
     "execution_count": 6,
     "metadata": {},
     "output_type": "execute_result"
    }
   ],
   "source": [
    "function Dkl_oracle(P,Q)\n",
    "    # Utility function for calculating Kullback-Leibler divergence and its first two derivatives\n",
    "    # Input\n",
    "    #  P,Q : two probability vectors of the same length\n",
    "    # Output\n",
    "    #  f : Float : D_KL (P||Q)\n",
    "    #  g : Vector : gradient of D_KL with respect to Q\n",
    "    #  H : Vector : hessain of D_KL with respect to Q = diag(H)\n",
    "    nonneg = (i->(i>=0))\n",
    "    if ~all(nonneg,[P;Q])\n",
    "        ArgumentError(\"Probabilities must be nonnegative\")\n",
    "    elseif ~all(i->(i==1),[sum(P),sum(Q)])\n",
    "        ArgumentError(\"Probabilities must sum to 1\")\n",
    "    elseif any(x->((x[2]==0) & (x[1]>0)),zip(P,Q))\n",
    "        ArgumentError(\"P must be absolutely continuous wrt Q; q==0 -> p==0\")\n",
    "    else\n",
    "        f=0\n",
    "        g=[]\n",
    "        H=[]\n",
    "        for (p,q) in zip(P,Q)\n",
    "            f+=p*log2(p/q)\n",
    "            push!(g,-p/q)\n",
    "            push!(H,p/q^2)\n",
    "        end\n",
    "        return (f,g,H)\n",
    "    end\n",
    "end"
   ]
  },
  {
   "cell_type": "markdown",
   "metadata": {},
   "source": [
    "# Data\n",
    "As an example system, I'll look at the edge dynamics of the multi-layer network defined by aggression and status signalling interactions in a monkey society.\n",
    "\n",
    "The data used are a series of seven weekly snapshots of group activity of the form (giver, receiver, frequency) for each type of interaction. Thus, we can describe each snapshot by a two-layer network, where existence of an edge in one layer signifies presence of an aggressive interaction, and existence of an edge in the other layer signifies presence of a status-signalling interaction. For simplicity, we do not encode directionality in these networks.\n",
    "\n",
    "Then, each dyad (pair of individuals) can be assigned a \"state\", which is a binary vector $X$ of length two. The first (second) component of the vector indicates existence of an edge in the first (second) layer. From here, we investigate the dynamics of this vector. We do this by computing the joint probability $p(X^t,X^{t+1})$, by counting, for each possible pair $(x,y)$ of binary vectors, the number of dyads having $X^t = x$ and $X^{t+1}=y$ for any $t\\in \\{1,\\dots,6\\}$\n",
    "\n",
    "This distribution constitutes our \"full\" model. We can then investigate the extent to which the two components of the binary state vector interact with each other through time."
   ]
  },
  {
   "cell_type": "markdown",
   "metadata": {},
   "source": [
    "## Reference point: Stochastic Interaction\n",
    "\n",
    "Below are data generated from a routine that explicitly computes a null model having the form of a product of marginals of $p$. Explicitly, the null model is defined by $$q(x,y) = p(x) \\prod_i p(y_i \\vert x_i)$$\n",
    "\n",
    "The dictionaries named \"counts\" contain the number of dyads that were observed to undergo the corresponding transition. For instance, the entry $((0,1),(1,0)) \\to 133$ means that 133 dyads were observed to exhibit status signalling but no aggression during one week, and aggression but no status signalling the next week."
   ]
  },
  {
   "cell_type": "code",
   "execution_count": 32,
   "metadata": {
    "collapsed": false
   },
   "outputs": [
    {
     "name": "stdout",
     "output_type": "stream",
     "text": [
      "Stochastic Interaction\n",
      "0.002313503019973237\n",
      "Integrated Information\n",
      "0.0006018815667706807\n",
      "Mutual Information\n",
      "0.007185625749994663\n"
     ]
    }
   ],
   "source": [
    "# Agg/Status, undirected, pre-perturbation\n",
    "\n",
    "counts_ASundir_pre = Dict([(((0, 1), (1, 0)), 133),\n",
    " (((0, 1), (0, 1)), 54),\n",
    " (((0, 0), (0, 0)), 17920),\n",
    " (((1, 0), (1, 0)), 1023),\n",
    " (((0, 0), (0, 1)), 591),\n",
    " (((1, 0), (0, 1)), 148),\n",
    " (((1, 0), (1, 1)), 73),\n",
    " (((0, 0), (1, 1)), 198),\n",
    " (((1, 0), (0, 0)), 3378),\n",
    " (((1, 1), (0, 1)), 24),\n",
    " (((1, 1), (0, 0)), 205),\n",
    " (((0, 0), (1, 0)), 3196),\n",
    " (((1, 1), (1, 0)), 73),\n",
    " (((0, 1), (0, 0)), 605),\n",
    " (((0, 1), (1, 1)), 16),\n",
    " (((1, 1), (1, 1)), 15)])\n",
    "\n",
    "tot = sum(values(counts_ASundir_pre))\n",
    "\n",
    "probs_ASundir_pre = Dict{Any,Any}(zip(keys(counts_ASundir_pre),collect(values(counts_ASundir_pre))/tot))\n",
    "\n",
    "null_conditionals = Dict([(((0, 1), (0, 1)), 0.082376018098575365),\n",
    " (((0, 1), (1, 0)), 0.14079200993913821),\n",
    " (((1, 0), (1, 0)), 0.23069025538330704),\n",
    " (((0, 0), (0, 1)), 0.032163425922733767),\n",
    " (((1, 0), (0, 1)), 0.028969500401011476),\n",
    " (((1, 0), (1, 1)), 0.0091397385450475502),\n",
    " (((1, 1), (0, 0)), 0.68597417584282472),\n",
    " (((1, 0), (0, 0)), 0.73120050567063399),\n",
    " (((1, 1), (0, 1)), 0.074195830228820758),\n",
    " (((1, 1), (1, 0)), 0.21642156506223301),\n",
    " (((1, 1), (1, 1)), 0.023408428866121565),\n",
    " (((0, 0), (1, 1)), 0.0059458130233252561),\n",
    " (((0, 1), (0, 0)), 0.76160373096591949),\n",
    " (((0, 1), (1, 1)), 0.015228240996366965),\n",
    " (((0, 0), (1, 0)), 0.15007443791217992),\n",
    " (((0, 0), (0, 0)), 0.81181632314176111)])\n",
    "\n",
    "p = probdict_to_list(probs_ASundir_pre)\n",
    "p_null = probdict_to_list(null_conditionals)\n",
    "\n",
    "println(\"Stochastic Interaction\")\n",
    "println(stochastic_interaction(p,p_null)[1])\n",
    "println(\"Integrated Information\")\n",
    "println(integrated_information(p)[1])\n",
    "println(\"Mutual Information\")\n",
    "println(mutual_information(p))"
   ]
  },
  {
   "cell_type": "code",
   "execution_count": 9,
   "metadata": {
    "collapsed": false
   },
   "outputs": [
    {
     "name": "stdout",
     "output_type": "stream",
     "text": [
      "Stochastic Interaction\n",
      "0.003737415222098175\n",
      "Integrated Information\n",
      "0.0016622523978824385\n",
      "Mutual Information\n",
      "0.01266331318070865\n"
     ]
    }
   ],
   "source": [
    "# Agg/Status, undirected, post-perturbation\n",
    "\n",
    "counts_ASundir_post = Dict([(((0, 1), (1, 0)), 131),\n",
    " (((0, 1), (0, 1)), 49),\n",
    " (((0, 0), (0, 0)), 10148),\n",
    " (((1, 0), (1, 0)), 853),\n",
    " (((0, 0), (0, 1)), 486),\n",
    " (((1, 0), (0, 1)), 137),\n",
    " (((1, 0), (1, 1)), 87),\n",
    " (((0, 0), (1, 1)), 177),\n",
    " (((1, 0), (0, 0)), 2172),\n",
    " (((1, 1), (0, 1)), 32),\n",
    " (((1, 1), (0, 0)), 162),\n",
    " (((0, 0), (1, 0)), 2198),\n",
    " (((1, 1), (1, 0)), 75),\n",
    " (((0, 1), (0, 0)), 425),\n",
    " (((0, 1), (1, 1)), 27),\n",
    " (((1, 1), (1, 1)), 22)])\n",
    "\n",
    "\n",
    "tot = sum(values(counts_ASundir_post))\n",
    "\n",
    "probs_ASundir_post = Dict{Any,Any}(zip(keys(counts_ASundir_post),collect(values(counts_ASundir_post))/tot))\n",
    "\n",
    "null_conditionals = Dict([(((0, 1), (0, 1)), 0.11531734916034557),\n",
    " (((0, 1), (1, 0)), 0.15943200255155102),\n",
    " (((1, 0), (1, 0)), 0.27705030409987896),\n",
    " (((0, 0), (0, 1)), 0.044469015239151879),\n",
    " (((1, 0), (0, 1)), 0.03860807890969932),\n",
    " (((1, 0), (1, 1)), 0.016004467215761937),\n",
    " (((1, 1), (0, 0)), 0.60682649900041208),\n",
    " (((1, 0), (0, 0)), 0.66833714977465986),\n",
    " (((1, 1), (0, 1)), 0.10011872968394708),\n",
    " (((1, 1), (1, 0)), 0.25155187937796636),\n",
    " (((1, 1), (1, 1)), 0.041502891937674549),\n",
    " (((0, 0), (1, 1)), 0.010143530886309376),\n",
    " (((0, 1), (0, 0)), 0.69894637582682739),\n",
    " (((0, 1), (1, 1)), 0.026304272461276052),\n",
    " (((0, 0), (1, 0)), 0.17559274412651771),\n",
    " (((0, 0), (0, 0)), 0.769794709748021)])\n",
    "\n",
    "p = probdict_to_list(probs_ASundir_post)\n",
    "p_null = probdict_to_list(null_conditionals)\n",
    "\n",
    "println(\"Stochastic Interaction\")\n",
    "println(stochastic_interaction(p,p_null)[1])\n",
    "println(\"Integrated Information\")\n",
    "println(integrated_information(p)[1])\n",
    "println(\"Mutual Information\")\n",
    "println(mutual_information(p))"
   ]
  },
  {
   "cell_type": "markdown",
   "metadata": {},
   "source": [
    "The data below consider probability distributions obtained from particular subsets of the data. In particular, we tabulate week-to-week transition counts observed within:\n",
    "1. A baseline period of three weeks\n",
    "2. The three-week period immediately following a social perturbation in which 19 of ~100 individuals were removed from the group\n",
    "3. The following three-week period\n",
    "\n",
    "For each of the periods, we calculate integrated information, stochastic interaction, and mutual information, and display the numbers."
   ]
  },
  {
   "cell_type": "code",
   "execution_count": 40,
   "metadata": {
    "collapsed": false
   },
   "outputs": [
    {
     "name": "stdout",
     "output_type": "stream",
     "text": [
      "Stochastic Interaction\n",
      "[0.0025836113515921274,0.00401887075693457,0.00467322430132345]\n",
      "Integrated Information\n",
      "[0.0003618016808804067,0.00208207863639009,0.0015264134559528748]\n",
      "Mutual Information\n",
      "[0.007582052333549238,0.01589110830795942,0.01056125167764734]\n"
     ]
    }
   ],
   "source": [
    "counts_ASundir_base3 = Dict([(((0, 1), (1, 0)), 60),\n",
    "  (((0, 1), (0, 1)), 20),\n",
    "  (((0, 0), (0, 0)), 8574),\n",
    "  (((1, 0), (1, 0)), 596),\n",
    "  (((0, 0), (0, 1)), 290),\n",
    "  (((1, 0), (0, 1)), 68),\n",
    "  (((1, 0), (1, 1)), 38),\n",
    "  (((0, 0), (1, 1)), 113),\n",
    "  (((1, 0), (0, 0)), 1735),\n",
    "  (((1, 1), (0, 1)), 9),\n",
    "  (((1, 1), (0, 0)), 93),\n",
    "  (((0, 0), (1, 0)), 1686),\n",
    "  (((1, 1), (1, 0)), 37),\n",
    "  (((0, 1), (0, 0)), 251),\n",
    "  (((0, 1), (1, 1)), 6),\n",
    "  (((1, 1), (1, 1)), 9)])\n",
    "\n",
    "null_cond_base3 = Dict([(((0, 1), (0, 1)), 0.076730495519388472),\n",
    "  (((0, 1), (1, 0)), 0.15393355772163134),\n",
    "  (((1, 0), (1, 0)), 0.25299259115109857),\n",
    "  (((0, 0), (0, 1)), 0.032323399603369322),\n",
    "  (((1, 0), (0, 1)), 0.028678672769221682),\n",
    "  (((1, 0), (1, 1)), 0.010246682138426007),\n",
    "  (((1, 1), (0, 0)), 0.66868222013558554),\n",
    "  (((1, 0), (0, 0)), 0.70808205394125379),\n",
    "  (((1, 1), (0, 1)), 0.068078506574889924),\n",
    "  (((1, 1), (1, 0)), 0.23891531579870609),\n",
    "  (((1, 1), (1, 1)), 0.02432395749081849),\n",
    "  (((0, 0), (1, 1)), 0.006601955304278366),\n",
    "  (((0, 1), (0, 0)), 0.75366397821266018),\n",
    "  (((0, 1), (1, 1)), 0.015671968546319932),\n",
    "  (((0, 0), (1, 0)), 0.16300357096367291),\n",
    "  (((0, 0), (0, 0)), 0.79807107412867928)])\n",
    "\n",
    "tot = sum(values(counts_ASundir_base3))\n",
    "probs_base3 = Dict{Any,Any}(zip(keys(counts_ASundir_base3),collect(values(counts_ASundir_base3))/tot))\n",
    "\n",
    "counts_ASundir_post3 = Dict([(((0, 1), (1, 0)), 64),\n",
    "  (((0, 1), (0, 1)), 28),\n",
    "  (((0, 0), (0, 0)), 6276),\n",
    "  (((1, 0), (1, 0)), 503),\n",
    "  (((0, 0), (0, 1)), 232),\n",
    "  (((1, 0), (0, 1)), 73),\n",
    "  (((1, 0), (1, 1)), 44),\n",
    "  (((0, 0), (1, 1)), 94),\n",
    "  (((1, 0), (0, 0)), 1178),\n",
    "  (((1, 1), (0, 1)), 20),\n",
    "  (((1, 1), (0, 0)), 70),\n",
    "  (((0, 0), (1, 0)), 1426),\n",
    "  (((1, 1), (1, 0)), 42),\n",
    "  (((0, 1), (0, 0)), 216),\n",
    "  (((0, 1), (1, 1)), 16),\n",
    "  (((1, 1), (1, 1)), 10)])\n",
    "\n",
    "null_cond_post3 = Dict([(((0, 1), (0, 1)), 0.12954411520966466),\n",
    "  (((0, 1), (1, 0)), 0.16093242604494701),\n",
    "  (((1, 0), (1, 0)), 0.29500194278773068),\n",
    "  (((0, 0), (0, 1)), 0.036519102954343553),\n",
    "  (((1, 0), (0, 1)), 0.031219152743354597),\n",
    "  (((1, 0), (1, 1)), 0.013957892433690579),\n",
    "  (((1, 1), (0, 0)), 0.58029654862816549),\n",
    "  (((1, 0), (0, 0)), 0.65982101203522425),\n",
    "  (((1, 1), (0, 1)), 0.11074361615041327),\n",
    "  (((1, 1), (1, 0)), 0.25944704111542427),\n",
    "  (((1, 1), (1, 1)), 0.049512794105996995),\n",
    "  (((0, 0), (1, 1)), 0.0086579422227016194),\n",
    "  (((0, 1), (0, 0)), 0.67881116369864281),\n",
    "  (((0, 1), (1, 1)), 0.030712295046745615),\n",
    "  (((0, 0), (1, 0)), 0.18298677886899101),\n",
    "  (((0, 0), (0, 0)), 0.77183617595396392)])\n",
    "\n",
    "tot = sum(values(counts_ASundir_post3))\n",
    "probs_post3 = Dict{Any,Any}(zip(keys(counts_ASundir_post3),collect(values(counts_ASundir_post3))/tot))\n",
    "\n",
    "counts_ASundir_last3 = Dict([(((0, 1), (1, 0)), 86),\n",
    "  (((0, 1), (0, 1)), 28),\n",
    "  (((0, 0), (0, 0)), 6083),\n",
    "  (((1, 0), (1, 0)), 474),\n",
    "  (((0, 0), (0, 1)), 316),\n",
    "  (((1, 0), (0, 1)), 78),\n",
    "  (((1, 0), (1, 1)), 53),\n",
    "  (((0, 0), (1, 1)), 113),\n",
    "  (((1, 0), (0, 0)), 1345),\n",
    "  (((1, 1), (0, 1)), 15),\n",
    "  (((1, 1), (0, 0)), 109),\n",
    "  (((0, 0), (1, 0)), 1214),\n",
    "  (((1, 1), (1, 0)), 51),\n",
    "  (((0, 1), (0, 0)), 296),\n",
    "  (((0, 1), (1, 1)), 18),\n",
    "  (((1, 1), (1, 1)), 13)])\n",
    "\n",
    "null_cond_last3 = Dict([(((0, 1), (0, 1)), 0.10005142440850028),\n",
    "  (((0, 1), (1, 0)), 0.15426846398148722),\n",
    "  (((1, 0), (1, 0)), 0.26059991540694472),\n",
    "  (((0, 0), (0, 1)), 0.047788976702594514),\n",
    "  (((1, 0), (0, 1)), 0.041930923396932634),\n",
    "  (((1, 0), (1, 1)), 0.016035598611746846),\n",
    "  (((1, 1), (0, 0)), 0.63557753379911086),\n",
    "  (((1, 0), (0, 0)), 0.68143356258437582),\n",
    "  (((1, 1), (0, 1)), 0.08778695218219762),\n",
    "  (((1, 1), (1, 0)), 0.24306324289991835),\n",
    "  (((1, 1), (1, 1)), 0.033572271118773249),\n",
    "  (((0, 0), (1, 1)), 0.010177545306084971),\n",
    "  (((0, 1), (0, 0)), 0.72437231271754199),\n",
    "  (((0, 1), (1, 1)), 0.021307798892470611),\n",
    "  (((0, 0), (1, 0)), 0.16539871756787286),\n",
    "  (((0, 0), (0, 0)), 0.7766347604234477)])\n",
    "\n",
    "tot = sum(values(counts_ASundir_last3))\n",
    "probs_last3 = Dict{Any,Any}(zip(keys(counts_ASundir_last3),collect(values(counts_ASundir_last3))/tot))\n",
    "\n",
    "pb = probdict_to_list(probs_base3)\n",
    "pp = probdict_to_list(probs_post3)\n",
    "pl = probdict_to_list(probs_last3)\n",
    "ncb = probdict_to_list(null_cond_base3)\n",
    "ncp = probdict_to_list(null_cond_post3)\n",
    "ncl = probdict_to_list(null_cond_last3)\n",
    "\n",
    "println(\"Stochastic Interaction\")\n",
    "println([stochastic_interaction(pb,ncb)[1],stochastic_interaction(pp,ncp)[1],stochastic_interaction(pl,ncl)[1]])\n",
    "println(\"Integrated Information\")\n",
    "println([integrated_information(pb)[1],integrated_information(pp)[1],integrated_information(pl)[1]])\n",
    "println(\"Mutual Information\")\n",
    "println([mutual_information(pb),mutual_information(pp),mutual_information(pl)])"
   ]
  }
 ],
 "metadata": {
  "kernelspec": {
   "display_name": "Julia 0.4.0",
   "language": "julia",
   "name": "julia-0.4"
  },
  "language_info": {
   "file_extension": ".jl",
   "mimetype": "application/julia",
   "name": "julia",
   "version": "0.4.0"
  }
 },
 "nbformat": 4,
 "nbformat_minor": 0
}
