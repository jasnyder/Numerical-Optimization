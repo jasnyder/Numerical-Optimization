{
 "cells": [
  {
   "cell_type": "code",
   "execution_count": 1,
   "metadata": {
    "collapsed": true
   },
   "outputs": [],
   "source": [
    "using Toms566"
   ]
  },
  {
   "cell_type": "code",
   "execution_count": 2,
   "metadata": {
    "collapsed": false
   },
   "outputs": [
    {
     "data": {
      "text/plain": [
       "newtmin_tom (generic function with 1 method)"
      ]
     },
     "execution_count": 2,
     "metadata": {},
     "output_type": "execute_result"
    }
   ],
   "source": [
    "function newtmin_tom(p, x0; max_its = 100, opt_tol = 1e-6, rho = 0.9, mu = 1e-4, delta = 1e-8, BFGS = false)\n",
    "    \"\"\"\n",
    "    p = Problem taken from Toms566 package\n",
    "     p.x0 = standard initial guess\n",
    "     p.obj = oracle returning objective function values\n",
    "     p.grd = oracle returning gradient of obj\n",
    "     p.hes = oracle returning hessian of obj\n",
    "    x0 = starting point (if None, use p.x0)\n",
    "    max_its = maximum number of iterations to try before quitting ( = 100 if not specified)\n",
    "    opt_tol is tolerance defining the stopping condition |p.grd(x)| < opt_tol*|p.grd(x0)| ( = 1e-6 if not specified)\n",
    "    rho = backtracking linesearch scaling constant\n",
    "    mu = coefficient for Armijo condition\n",
    "    delta = positive constant to replace negative (or zero) singular values of the Hessian\n",
    "    TO DO:\n",
    "        - add BFGS search direction option\n",
    "    \"\"\"\n",
    "    x = x0; n = length(x0)\n",
    "    f = p.obj(x0)\n",
    "    g = p.grd(x0)\n",
    "    g0 = p.grd(x0)\n",
    "    its = 0\n",
    "    count_notpd = 0\n",
    "    if ~(BFGS)\n",
    "        while (its < max_its) & (norm(g) > opt_tol * norm(g0)) # stopping criteria\n",
    "            # compute function value, gradient, and hessian at current point\n",
    "            f = p.obj(x)\n",
    "            g = p.grd(x)\n",
    "            H = p.hes(x)\n",
    "            # try Cholesky factorization to determine if H is positive definite\n",
    "            try R = chol(H)\n",
    "                # if H is positive definite, compute the Newton search direction d = -H\\g\n",
    "                d = -H\\g\n",
    "                # use backtracking to compute an acceptable step length\n",
    "                a = 1\n",
    "                while p.obj(x+a*d) > f + a*mu*dot(g,d)\n",
    "                    a = rho*a\n",
    "                end\n",
    "                # update x value using the step length a that we just decided on\n",
    "                x = x + a*d\n",
    "            catch\n",
    "                count_notpd += 1\n",
    "                # H is not positive definite, compute eigenvalue decomposition\n",
    "                (l,Q) = eig(H)\n",
    "                # flip and scale negative eigenvalues by delta > 0\n",
    "                l = max(l,-delta*l)\n",
    "                # compute search direction by inverting modified Hessian\n",
    "                B = Q*diagm(l)*Q'\n",
    "                d = -B\\g\n",
    "                a = 1\n",
    "                while p.obj(x+a*d) > f + a*mu*dot(g,d)\n",
    "                    a = rho*a\n",
    "                end\n",
    "                x = x + a*d\n",
    "            end\n",
    "            its += 1\n",
    "        end\n",
    "    else\n",
    "        # Compute BFGS search direction\n",
    "        # initialze B matrix to the identity\n",
    "        B = eye(n)\n",
    "        while (its < max_its) & (norm(g) > opt_tol * norm(g0))\n",
    "            f = p.obj(x)\n",
    "            g = p.grd(x)\n",
    "            d = -B\\g\n",
    "            a = 1\n",
    "            while p.obj(x+a*d) > f + mu*a*dot(d,g)\n",
    "                a = a*rho\n",
    "            end\n",
    "            s = a*d\n",
    "            x = x + s\n",
    "            y = p.grd(x) - g\n",
    "            # BFGS update\n",
    "            B = B + y*y'/dot(y,s) - B*s*s'*B/dot(s,B*s)\n",
    "            its += 1\n",
    "        end\n",
    "    end        \n",
    "    return (x,its)\n",
    "end"
   ]
  },
  {
   "cell_type": "code",
   "execution_count": 20,
   "metadata": {
    "collapsed": false
   },
   "outputs": [],
   "source": [
    "res_table = cell(18,4)\n",
    "for n = 1:18\n",
    "    p = Problem(n)\n",
    "    (x_newt,its_newt) = newtmin_tom(p,p.x0,max_its = 500)\n",
    "    fmin_newt = p.obj(x_newt)\n",
    "    res_table[n,1:2] = [fmin_newt;its_newt]\n",
    "    (x_bfgs,its_bfgs) = newtmin_tom(p,p.x0,max_its = 500,BFGS=true)\n",
    "    fmin_bfgs = p.obj(x_bfgs)\n",
    "    res_table[n,3:4] = [fmin_bfgs;its_bfgs]\n",
    "end"
   ]
  },
  {
   "cell_type": "code",
   "execution_count": 21,
   "metadata": {
    "collapsed": false
   },
   "outputs": [
    {
     "data": {
      "text/plain": [
       "18x4 Array{Any,2}:\n",
       "    8.41724e-29   14.0      2.29068e-13   28.0\n",
       "  NaN              3.0      8.10366e-13  131.0\n",
       "    1.12793e-8     3.0      1.12793e-8     6.0\n",
       "    1.04153e-8    14.0      2.25191e-14  235.0\n",
       "  NaN              2.0      2.27708e-11   30.0\n",
       " 3359.97          33.0    139.818         13.0\n",
       "   24.6469       500.0      3.77203e-5    33.0\n",
       "    9.04963       12.0      9.25355        3.0\n",
       "   88.1082       500.0    NaN             91.0\n",
       "    8.19584e-33    9.0      9.23872e-21   17.0\n",
       "    4.04157e5    500.0  85822.2           24.0\n",
       "    5.02397e-19   27.0    NaN             13.0\n",
       "    0.00182687   500.0      3.94627e-6    55.0\n",
       "  482.269        500.0      1.88999e-9   108.0\n",
       " 2950.85         500.0      1.22637e-5    66.0\n",
       "    3.9473e-25    58.0      5.51847e-15   18.0\n",
       "    3.70392e-17   37.0      2.27985e-7    33.0\n",
       "  NaN              3.0      0.00538632   312.0"
      ]
     },
     "execution_count": 21,
     "metadata": {},
     "output_type": "execute_result"
    }
   ],
   "source": [
    "res_table"
   ]
  },
  {
   "cell_type": "code",
   "execution_count": null,
   "metadata": {
    "collapsed": true
   },
   "outputs": [],
   "source": []
  }
 ],
 "metadata": {
  "kernelspec": {
   "display_name": "Julia 0.4.0",
   "language": "julia",
   "name": "julia-0.4"
  },
  "language_info": {
   "file_extension": ".jl",
   "mimetype": "application/julia",
   "name": "julia",
   "version": "0.4.0"
  }
 },
 "nbformat": 4,
 "nbformat_minor": 0
}
