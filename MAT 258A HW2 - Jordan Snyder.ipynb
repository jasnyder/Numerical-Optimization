{
 "metadata": {
  "language": "Julia",
  "name": "",
  "signature": "sha256:a7fb0916b02eebfe9fd600c1fc5646575d31a51d28989c06f833f67b36919f30"
 },
 "nbformat": 3,
 "nbformat_minor": 0,
 "worksheets": [
  {
   "cells": [
    {
     "cell_type": "markdown",
     "metadata": {},
     "source": [
      "Using logistic regression to fit college admissions data"
     ]
    },
    {
     "cell_type": "code",
     "collapsed": false,
     "input": [
      "using Distributions\n",
      "using Convex\n",
      "using PyPlot"
     ],
     "language": "python",
     "metadata": {},
     "outputs": [
      {
       "output_type": "stream",
       "stream": "stderr",
       "text": [
        "INFO: Loading help data...\n"
       ]
      }
     ],
     "prompt_number": 1
    },
    {
     "cell_type": "code",
     "collapsed": false,
     "input": [
      "Pkg.add(\"Optim\")\n",
      "using Optim"
     ],
     "language": "python",
     "metadata": {},
     "outputs": [
      {
       "output_type": "stream",
       "stream": "stderr",
       "text": [
        "INFO: Cloning cache of Calculus from git://github.com/johnmyleswhite/Calculus.jl.git\n"
       ]
      },
      {
       "output_type": "stream",
       "stream": "stderr",
       "text": [
        "INFO: Cloning cache of DualNumbers from git://github.com/JuliaDiff/DualNumbers.jl.git\n"
       ]
      },
      {
       "output_type": "stream",
       "stream": "stderr",
       "text": [
        "INFO: Cloning cache of NaNMath from git://github.com/mlubin/NaNMath.jl.git\n"
       ]
      },
      {
       "output_type": "stream",
       "stream": "stderr",
       "text": [
        "INFO: Cloning cache of Optim from git://github.com/JuliaOpt/Optim.jl.git\n"
       ]
      },
      {
       "output_type": "stream",
       "stream": "stderr",
       "text": [
        "INFO: Installing Calculus v0.1.6\n"
       ]
      },
      {
       "output_type": "stream",
       "stream": "stderr",
       "text": [
        "INFO: Installing DualNumbers v0.1.3\n"
       ]
      },
      {
       "output_type": "stream",
       "stream": "stderr",
       "text": [
        "INFO: Installing NaNMath v0.1.0\n"
       ]
      },
      {
       "output_type": "stream",
       "stream": "stderr",
       "text": [
        "INFO: Installing Optim v0.4.2\n"
       ]
      },
      {
       "output_type": "stream",
       "stream": "stderr",
       "text": [
        "INFO: Package database updated\n"
       ]
      },
      {
       "output_type": "stream",
       "stream": "stderr",
       "text": [
        "INFO: METADATA is out-of-date \u2014 you may not have the latest version of Optim\n",
        "INFO: Use `Pkg.update()` to get the latest versions of your packages\n"
       ]
      }
     ],
     "prompt_number": 48
    },
    {
     "cell_type": "code",
     "collapsed": false,
     "input": [
      "datafile = open(\"binary.csv\")\n",
      "admitdata = readcsv(datafile)\n",
      "(M,N) = size(admitdata)\n",
      "# M-1 = number of data points\n",
      "# N = number of dimensions to each data point\n",
      "print(admitdata[1,:]) #read out column headers"
     ],
     "language": "python",
     "metadata": {},
     "outputs": [
      {
       "output_type": "stream",
       "stream": "stdout",
       "text": [
        "Any["
       ]
      },
      {
       "output_type": "stream",
       "stream": "stdout",
       "text": [
        "\"admit\" \"gre\" \"gpa\" \"rank\"]"
       ]
      }
     ],
     "prompt_number": 14
    },
    {
     "cell_type": "code",
     "collapsed": false,
     "input": [
      "# pack data into vectors\n",
      "y = admitdata[2:M,1]\n",
      "u = admitdata[2:M,2:3]\n",
      "# define the negative log-likelihood function, which is what we wish to minimize. here x[1:2] = a, x[3] = beta\n",
      "function f(x::Vector)\n",
      "    return -sum([y[k]*(x[1]*u[k,1]+x[2]*u[k,2]+x[3] - log(1+exp(x[1]*u[k,1]+x[2]*u[k,2]+x[3]))) - (1-y[k])*log(1+exp(x[1]*u[k,1]+x[2]*u[k,2]+x[3])) for k = 1:M-1])\n",
      "end"
     ],
     "language": "python",
     "metadata": {},
     "outputs": [
      {
       "metadata": {},
       "output_type": "pyout",
       "prompt_number": 111,
       "text": [
        "f (generic function with 1 method)"
       ]
      }
     ],
     "prompt_number": 111
    },
    {
     "cell_type": "code",
     "collapsed": false,
     "input": [
      "# solve the problem using an arbtirary initial guess (here 0,0,0)\n",
      "res = optimize(f,[0.,0.,0.])\n",
      "# read out the optimum value of x into x_opt\n",
      "x_opt = res.minimum"
     ],
     "language": "python",
     "metadata": {},
     "outputs": [
      {
       "metadata": {},
       "output_type": "pyout",
       "prompt_number": 112,
       "text": [
        "3-element Array{Float64,1}:\n",
        " 0.934935 \n",
        " 0.0934414\n",
        " 0.087795 "
       ]
      }
     ],
     "prompt_number": 112
    },
    {
     "cell_type": "code",
     "collapsed": false,
     "input": [
      "1/(2*x_opt[2])-(x_opt[3])/(x_opt[2])"
     ],
     "language": "python",
     "metadata": {},
     "outputs": [
      {
       "metadata": {},
       "output_type": "pyout",
       "prompt_number": 113,
       "text": [
        "4.411373686570877"
       ]
      }
     ],
     "prompt_number": 113
    },
    {
     "cell_type": "code",
     "collapsed": false,
     "input": [
      "A = [admitdata[:,1] .== 1] # boolean vector which is true for rows where \"admit\" == 1\n",
      "R = !A; R[1] = false #boolean vector which is true for rows where \"admit\" == 0; note excluding the header row\n",
      "admitted = admitdata[I,:]  # grab all rows of admitdata where \"admit\" = 1\n",
      "rejected = admitdata[R,:] # grab all rows of admitdata where \"admit\" != 1\n",
      "scatter(rejected[:,2], rejected[:,3], marker = \"+\", color = \"red\")\n",
      "scatter(admitted[:,2], admitted[:,3], marker = \"o\")\n",
      "\n",
      "# plot the \"decision line\", a^T x + beta = 1/2\n",
      "# what the heck is going on here?\n",
      "xdata = 150:0.5:800\n",
      "ydata = [(1/2 - x_opt[3] - x_opt[1]*gre)/x_opt[2] for gre in xdata]\n",
      "plot(xdata,ydata)\n",
      "\n",
      "xlabel(\"GRE\")\n",
      "ylabel(\"GPA\")\n",
      "title(\"GPA vs. GRE score\")"
     ],
     "language": "python",
     "metadata": {},
     "outputs": [
      {
       "metadata": {},
       "output_type": "display_data",
       "png": "[encoded data removed]",
       "text": [
        "Figure(PyObject <matplotlib.figure.Figure object at 0x000000004266EA20>)"
       ]
      },
      {
       "metadata": {},
       "output_type": "pyout",
       "prompt_number": 114,
       "text": [
        "PyObject <matplotlib.text.Text object at 0x00000000427436A0>"
       ]
      }
     ],
     "prompt_number": 114
    },
    {
     "cell_type": "code",
     "collapsed": false,
     "input": [],
     "language": "python",
     "metadata": {},
     "outputs": []
    }
   ],
   "metadata": {}
  }
 ]
}